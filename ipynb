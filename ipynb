{
  "metadata": {
    "language_info": {
      "codemirror_mode": {
        "name": "python",
        "version": 3
      },
      "file_extension": ".py",
      "mimetype": "text/x-python",
      "name": "python",
      "nbconvert_exporter": "python",
      "pygments_lexer": "ipython3",
      "version": "3.8"
    },
    "kernelspec": {
      "name": "python",
      "display_name": "Pyolite",
      "language": "python"
    }
  },
  "nbformat_minor": 4,
  "nbformat": 4,
  "cells": [
    {
      "cell_type": "markdown",
      "source": "# My Jupyter Notebook on IBM Watson Studio",
      "metadata": {}
    },
    {
      "cell_type": "markdown",
      "source": "__Shaikha Althuwaiqeb__ ",
      "metadata": {}
    },
    {
      "cell_type": "markdown",
      "source": "Energy Modeler",
      "metadata": {}
    },
    {
      "cell_type": "markdown",
      "source": "_I am intrested in Data Science because it is the future of fast and time savor for effecient decisons_ ",
      "metadata": {}
    },
    {
      "cell_type": "markdown",
      "source": "__Below simple math equation__ ",
      "metadata": {}
    },
    {
      "cell_type": "code",
      "source": "1+1",
      "metadata": {
        "trusted": true
      },
      "execution_count": 1,
      "outputs": [
        {
          "execution_count": 1,
          "output_type": "execute_result",
          "data": {
            "text/plain": "2"
          },
          "metadata": {}
        }
      ]
    },
    {
      "cell_type": "markdown",
      "source": "`my favoirte dogs are:`",
      "metadata": {}
    },
    {
      "cell_type": "markdown",
      "source": "+ pug\n- Doberman",
      "metadata": {}
    },
    {
      "cell_type": "markdown",
      "source": "dogs pictures: https://www.pinterest.com/pin/275352964689808351/ ",
      "metadata": {}
    }
  ]
}